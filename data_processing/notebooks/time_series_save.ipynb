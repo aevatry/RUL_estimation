{
 "cells": [
  {
   "cell_type": "code",
   "execution_count": 2,
   "id": "e5a46791-1e1a-44d4-95fd-79b9ef5aa6a3",
   "metadata": {},
   "outputs": [],
   "source": [
    "import numpy as np"
   ]
  },
  {
   "cell_type": "code",
   "execution_count": 3,
   "id": "9bd2e9db",
   "metadata": {},
   "outputs": [],
   "source": [
    "files = ['B01', 'B02', 'B03', 'B04', 'B05']\n",
    "\n",
    "final_data =[]\n",
    "final_labels = []\n",
    "for file in files:\n",
    "    \n",
    "    data = np.loadtxt('D:/Imperial_College/FYP/B0_tests/Normalized/' +file+ '_features.csv', delimiter= ',')\n",
    "    labels = np.loadtxt('D:/Imperial_College/FYP/B0_tests/Formatted/' +file+ '_labels.csv', delimiter= ',')\n",
    "\n",
    "    final_data+=[data.T]\n",
    "    final_labels+=[labels.T]\n"
   ]
  },
  {
   "cell_type": "code",
   "execution_count": 4,
   "id": "9d31cb77",
   "metadata": {},
   "outputs": [
    {
     "name": "stdout",
     "output_type": "stream",
     "text": [
      "(4, 35352)\n",
      "(35352,)\n",
      "(4, 24366)\n",
      "(24366,)\n",
      "(4, 29163)\n",
      "(29163,)\n",
      "(4, 22928)\n",
      "(22928,)\n",
      "(4, 21289)\n",
      "(21289,)\n"
     ]
    }
   ],
   "source": [
    "for i in range(0, len(final_data)):\n",
    "    print(final_data[i].shape)\n",
    "    print(final_labels[i].shape)\n"
   ]
  },
  {
   "cell_type": "code",
   "execution_count": null,
   "id": "1f53f6cd",
   "metadata": {},
   "outputs": [],
   "source": [
    "def None_pad(TimeSerie, TimeLabel):\n",
    "    pass"
   ]
  }
 ],
 "metadata": {
  "kernelspec": {
   "display_name": "Python 3 (ipykernel)",
   "language": "python",
   "name": "python3"
  },
  "language_info": {
   "codemirror_mode": {
    "name": "ipython",
    "version": 3
   },
   "file_extension": ".py",
   "mimetype": "text/x-python",
   "name": "python",
   "nbconvert_exporter": "python",
   "pygments_lexer": "ipython3",
   "version": "3.11.5"
  }
 },
 "nbformat": 4,
 "nbformat_minor": 5
}
