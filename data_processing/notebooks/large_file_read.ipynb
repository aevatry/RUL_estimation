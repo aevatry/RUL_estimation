{
 "cells": [
  {
   "cell_type": "code",
   "execution_count": 1,
   "id": "e5a46791-1e1a-44d4-95fd-79b9ef5aa6a3",
   "metadata": {},
   "outputs": [],
   "source": [
    "import pandas as pd\n",
    "import numpy as np\n",
    "import h5py\n",
    "import matplotlib.pyplot as plt\n"
   ]
  },
  {
   "cell_type": "code",
   "execution_count": 3,
   "id": "68384966-15a4-4cef-bb0e-6887cb9e3d7b",
   "metadata": {},
   "outputs": [],
   "source": [
    "# Need to use a generator function, using the yield concept. \n",
    "def mat_generator(filename:str, process_step:int = 1 , data_idex:int=0, sampling_rate:int= 10240,*args):\n",
    "    \n",
    "    # check types  \n",
    "    if not isinstance(filename, str):\n",
    "        raise TypeError\n",
    "    if not isinstance(process_step, int):\n",
    "        raise TypeError\n",
    "\n",
    "    # opening the file and getting the dataset keys  \n",
    "    f= h5py.File(filename,'r')\n",
    "    data_keys = f['TXX'].keys()\n",
    "\n",
    "    # Filtering out the keys\n",
    "    accel_keys = []\n",
    "    \n",
    "    for key in data_keys:\n",
    "        if 'Accel' in key:\n",
    "            accel_keys.append(key)\n",
    "    if len(accel_keys) == 0:\n",
    "        raise IndexError(\"Need at least one acceleration dataset\")\n",
    "    \n",
    "    # Dataset number gets the number of individual runs stored in that file\n",
    "    dataset_number = f['TXX'][accel_keys[0]][0].shape[0]\n",
    "\n",
    "    # iterate through all datasets contained in the HDF5 file\n",
    "    for dataset_index in range(0, dataset_number):\n",
    "\n",
    "        # Create an empty list that will hold the HDF5 reference for each column for the 1st file\n",
    "        file_refs = []\n",
    "\n",
    "        for a_key in accel_keys:\n",
    "            file_refs.append(f['TXX'][a_key][0][dataset_index])\n",
    "\n",
    "        # Get the number of datapoints for the dataset at current dataset_index\n",
    "        datalen = len(np.array( f[file_refs][0]))\n",
    "\n",
    "        for hard_index in range(0, datalen):\n",
    "            row = []\n",
    "            \n",
    "            yield row\n",
    "            \n",
    "def read_mat_generator(filename:str, *args):\n",
    "    \n",
    "    return 0"
   ]
  },
  {
   "cell_type": "code",
   "execution_count": 35,
   "metadata": {},
   "outputs": [
    {
     "name": "stdout",
     "output_type": "stream",
     "text": [
      "[<HDF5 object reference> <HDF5 object reference> <HDF5 object reference>\n",
      " <HDF5 object reference> <HDF5 object reference> <HDF5 object reference>\n",
      " <HDF5 object reference>]\n"
     ]
    },
    {
     "data": {
      "text/plain": [
       "6745600"
      ]
     },
     "execution_count": 35,
     "metadata": {},
     "output_type": "execute_result"
    }
   ],
   "source": [
    "f = h5py.File(\"D:\\Imperial_College\\T24_SHARED.mat\", 'r')\n",
    "\n",
    "reference = f['TXX']['Triax_Accel_Z'][0][0]\n",
    "result = np.array(f[reference][0])\n",
    "index = np.arange(len(result))\n",
    "\n",
    "print(f['TXX']['Drive_V'][0])\n",
    "testref = f['TXX']['Drive_V'][0][0]\n",
    "len(np.array(f[testref][0]))\n",
    "\n"
   ]
  },
  {
   "cell_type": "code",
   "execution_count": 47,
   "metadata": {},
   "outputs": [
    {
     "name": "stdout",
     "output_type": "stream",
     "text": [
      "7\n",
      "<class 'h5py._hl.files.File'>\n"
     ]
    },
    {
     "data": {
      "text/plain": [
       "True"
      ]
     },
     "execution_count": 47,
     "metadata": {},
     "output_type": "execute_result"
    }
   ],
   "source": [
    "print(f['TXX']['Drive_V'][0].size)\n",
    "print(type(f))\n",
    "\n",
    "isinstance(f, h5py._hl.files.File)\n"
   ]
  }
 ],
 "metadata": {
  "kernelspec": {
   "display_name": "Python 3 (ipykernel)",
   "language": "python",
   "name": "python3"
  },
  "language_info": {
   "codemirror_mode": {
    "name": "ipython",
    "version": 3
   },
   "file_extension": ".py",
   "mimetype": "text/x-python",
   "name": "python",
   "nbconvert_exporter": "python",
   "pygments_lexer": "ipython3",
   "version": "3.11.5"
  }
 },
 "nbformat": 4,
 "nbformat_minor": 5
}
