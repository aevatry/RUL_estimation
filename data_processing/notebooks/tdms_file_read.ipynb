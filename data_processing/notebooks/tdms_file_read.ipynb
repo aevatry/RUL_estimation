{
 "cells": [
  {
   "cell_type": "code",
   "execution_count": 1,
   "metadata": {},
   "outputs": [],
   "source": [
    "import numpy as np\n",
    "from nptdms import TdmsFile\n",
    "import h5py\n",
    "import os\n",
    "import pathlib\n",
    "import matplotlib.pyplot as plt\n",
    "import pandas as pd\n",
    "import data_processing_copy"
   ]
  },
  {
   "cell_type": "code",
   "execution_count": 7,
   "metadata": {},
   "outputs": [
    {
     "name": "stdout",
     "output_type": "stream",
     "text": [
      "Parameters\n",
      "Friction\n",
      "20305\n",
      "ShortAvg\n",
      "20305\n",
      "LongAvg\n",
      "20305\n",
      "EOL\n",
      "20305\n",
      "AccelerationPP\n",
      "20305\n",
      "AccelerationCLA\n",
      "20305\n",
      "Parameters\n",
      "Friction\n",
      "2494\n",
      "ShortAvg\n",
      "2494\n",
      "LongAvg\n",
      "2494\n",
      "EOL\n",
      "2494\n",
      "AccelerationPP\n",
      "2494\n",
      "AccelerationCLA\n",
      "2494\n",
      "Parameters\n",
      "Friction\n",
      "129\n",
      "ShortAvg\n",
      "129\n",
      "LongAvg\n",
      "129\n",
      "EOL\n",
      "129\n",
      "AccelerationPP\n",
      "129\n",
      "AccelerationCLA\n",
      "129\n"
     ]
    }
   ],
   "source": [
    "data = []\n",
    "plotter =[]\n",
    "indexing = []\n",
    "step1_last = 0\n",
    "step2_last = 0\n",
    "freq_c = 500\n",
    "freq_counter = 0\n",
    "\n",
    "#Vibration signals analysis\n",
    "\n",
    "with TdmsFile.open('D:/Imperial_College/FYP/B0_tests/Test B04/step1_parameters.tdms') as tdms_file:\n",
    "\n",
    "    for group in tdms_file.groups():\n",
    "        print(group.name)\n",
    "        for channel in tdms_file[group.name]:\n",
    "            print (channel)\n",
    "            print(tdms_file[group.name][channel]._length)\n",
    "    \n",
    "    gr = 'Parameters'\n",
    "\n",
    "    for i in range(0, tdms_file[gr]['AccelerationPP']._length):\n",
    "        indexing += [i]\n",
    "        data += [[tdms_file[gr]['AccelerationPP'][i], tdms_file[gr]['AccelerationCLA'][i], tdms_file[gr]['Friction'][i]]] \n",
    "\n",
    "        #series I want to plot\n",
    "        plotter += [tdms_file[gr]['AccelerationPP'][i]]\n",
    "        step1_last = i\n",
    "\n",
    "with TdmsFile.open('D:/Imperial_College/FYP/B0_tests/Test B04/step2_parameters.tdms') as tdms_file:\n",
    "    for group in tdms_file.groups():\n",
    "        print(group.name)\n",
    "        for channel in tdms_file[group.name]:\n",
    "            print (channel)\n",
    "            print(tdms_file[group.name][channel]._length)\n",
    "\n",
    "    for i in range(0, tdms_file[gr]['AccelerationPP']._length):\n",
    "        indexing += [step1_last + i]\n",
    "        data += [[tdms_file[gr]['AccelerationPP'][i], tdms_file[gr]['AccelerationCLA'][i], tdms_file[gr]['Friction'][i]]] \n",
    "        \n",
    "        plotter += [tdms_file[gr]['AccelerationPP'][i]]\n",
    "\n",
    "        step2_last = i\n",
    "\n",
    "with TdmsFile.open('D:/Imperial_College/FYP/B0_tests/Test B04/step3_parameters.tdms') as tdms_file:\n",
    "    for group in tdms_file.groups():\n",
    "        print(group.name)\n",
    "        for channel in tdms_file[group.name]:\n",
    "            print (channel)\n",
    "            print(tdms_file[group.name][channel]._length)\n",
    "\n",
    "    for i in range(0, tdms_file[gr]['AccelerationPP']._length):\n",
    "        indexing += [step1_last + step2_last + i]\n",
    "        data += [[tdms_file[gr]['AccelerationPP'][i], tdms_file[gr]['AccelerationCLA'][i], tdms_file[gr]['Friction'][i]]] \n",
    "        \n",
    "        plotter += [tdms_file[gr]['AccelerationPP'][i]]\n",
    "\n"
   ]
  },
  {
   "cell_type": "code",
   "execution_count": 8,
   "metadata": {},
   "outputs": [
    {
     "name": "stdout",
     "output_type": "stream",
     "text": [
      "Vibration signal\n",
      "MaxPool\n",
      "98409.0\n",
      "Vibration signal\n",
      "MaxPool\n",
      "2494.0\n",
      "Vibration signal\n",
      "MaxPool\n",
      "129.0\n"
     ]
    }
   ],
   "source": [
    "# Frequency Analysis\n",
    "\n",
    "with TdmsFile.open('D:/Imperial_College/FYP/B0_tests/Test B04/step1_maxpool.tdms') as tdms_file:\n",
    "\n",
    "    for group in tdms_file.groups():\n",
    "        print(group.name)\n",
    "        for channel in tdms_file[group.name]:\n",
    "            print (channel)\n",
    "            print(tdms_file[group.name][channel]._length/500)\n",
    "    \n",
    "\n",
    "    for i in range(39052000, tdms_file['Vibration signal']['MaxPool']._length, freq_c):\n",
    "        FD1 = data_processing_copy.generator_mean(tdms_file['Vibration signal']['MaxPool'][j] for j in range(i, i+freq_c)) \n",
    "        data[freq_counter] += [FD1]\n",
    "        freq_counter+=1\n",
    "\n",
    "        \n",
    "\n",
    "with TdmsFile.open('D:/Imperial_College/FYP/B0_tests/Test B04/step2_maxpool.tdms') as tdms_file:\n",
    "\n",
    "    for group in tdms_file.groups():\n",
    "        print(group.name)\n",
    "        for channel in tdms_file[group.name]:\n",
    "            print (channel)\n",
    "            print(tdms_file[group.name][channel]._length/500)\n",
    "    for i in range(0, tdms_file['Vibration signal']['MaxPool']._length, freq_c):\n",
    "        FD1 = data_processing_copy.generator_mean(tdms_file['Vibration signal']['MaxPool'][j] for j in range(i, i+freq_c)) \n",
    "        data[freq_counter] += [FD1]\n",
    "        freq_counter+=1\n",
    "\n",
    "with TdmsFile.open('D:/Imperial_College/FYP/B0_tests/Test B04/step3_maxpool.tdms') as tdms_file:\n",
    "\n",
    "    for group in tdms_file.groups():\n",
    "        print(group.name)\n",
    "        for channel in tdms_file[group.name]:\n",
    "            print (channel)\n",
    "            print(tdms_file[group.name][channel]._length/500)\n",
    "    \n",
    "\n",
    "    for i in range(0, tdms_file['Vibration signal']['MaxPool']._length, freq_c):\n",
    "        FD1 = data_processing_copy.generator_mean(tdms_file['Vibration signal']['MaxPool'][j] for j in range(i, i+freq_c)) \n",
    "        data[freq_counter] += [FD1]\n",
    "        freq_counter+=1"
   ]
  },
  {
   "cell_type": "code",
   "execution_count": 9,
   "metadata": {},
   "outputs": [],
   "source": [
    "RUL = data_processing_copy.rul_labels(indexing, int(len(indexing)/3))\n"
   ]
  },
  {
   "cell_type": "code",
   "execution_count": 10,
   "metadata": {},
   "outputs": [
    {
     "name": "stdout",
     "output_type": "stream",
     "text": [
      "22928\n",
      "22928\n"
     ]
    }
   ],
   "source": [
    "print(len(RUL))\n",
    "print(len(data))"
   ]
  },
  {
   "cell_type": "code",
   "execution_count": 11,
   "metadata": {},
   "outputs": [],
   "source": [
    "np.savetxt('D:/Imperial_College/FYP/B0_tests/Formatted/' +'B04'+ '_features.csv', data, delimiter= ' ')    \n",
    "np.savetxt('D:/Imperial_College/FYP/B0_tests/Formatted/' +'B04'+ '_labels.csv', RUL, delimiter=' ')\n"
   ]
  }
 ],
 "metadata": {
  "kernelspec": {
   "display_name": "FYP-dev",
   "language": "python",
   "name": "python3"
  },
  "language_info": {
   "codemirror_mode": {
    "name": "ipython",
    "version": 3
   },
   "file_extension": ".py",
   "mimetype": "text/x-python",
   "name": "python",
   "nbconvert_exporter": "python",
   "pygments_lexer": "ipython3",
   "version": "3.11.5"
  }
 },
 "nbformat": 4,
 "nbformat_minor": 2
}
