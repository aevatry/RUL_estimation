{
 "cells": [
  {
   "cell_type": "code",
   "execution_count": 1,
   "metadata": {},
   "outputs": [],
   "source": [
    "import torch\n",
    "import numpy as np\n",
    "from torch.utils.data import Dataset, DataLoader\n",
    "import os\n",
    "import matplotlib.pyplot as plt\n",
    "\n",
    "device = (\n",
    "    \"cuda\"\n",
    "    if torch.cuda.is_available()\n",
    "    else \"cpu\"\n",
    ")"
   ]
  },
  {
   "cell_type": "code",
   "execution_count": 105,
   "metadata": {},
   "outputs": [],
   "source": [
    "# To get tensors, use torch.from_numpy()\n",
    "\n",
    "array = np.array(\n",
    "    [\n",
    "    [[1,2,3,4,5,6,7,8,9],\n",
    "    [11,12,13,14,15,16,17,18,19],],\n",
    "    \n",
    "    [[21,22,23,24,25,26,27,28,29],\n",
    "    [31,32,33,34,35,36,37,38,39],],\n",
    "    ])\n",
    "\n",
    "array2 = np.array(\n",
    "    [\n",
    "    [[1,2,3,4,5,6,7,8,9, 40, 41,],\n",
    "    [11,12,13,14,15,16,17,18,19, 50, 51],],\n",
    "    \n",
    "    [[21,22,23,24,25,26,27,28,29, 60, 61],\n",
    "    [31,32,33,34,35,36,37,38,39, 70, 71],],\n",
    "    ])\n",
    "\n",
    "array3 = np.array(\n",
    "    [\n",
    "    [[1,2,3,4,5,6,7,8,9, 40, 41,],\n",
    "    [11,12,13,14,15,16,17,18,19, 50, 51],],\n",
    "    \n",
    "    [[21,22,23,24,25,26,27,28,29, 60, 61],\n",
    "    [31,32,33,34,35,36,37,38,39, 70, 71],],\n",
    "    ])\n",
    "\n",
    "\n",
    "torcharray = torch.from_numpy(array).to(device=device, dtype=torch.float)\n",
    "torcharray2 = torch.from_numpy(array2).to(device=device, dtype=torch.float)\n",
    "\n",
    "Conv1D_dept = torch.nn.Conv1d(in_channels=2, out_channels=2, kernel_size= 2, stride=1, padding=0, bias=False, device = device,)\n",
    "Conv1D_pointwise = torch.nn.Conv1d(in_channels=2, out_channels=3, kernel_size= 2, stride=1, padding=0, bias=False, device = device)"
   ]
  },
  {
   "cell_type": "code",
   "execution_count": 107,
   "metadata": {},
   "outputs": [
    {
     "name": "stdout",
     "output_type": "stream",
     "text": [
      "torch.Size([2, 2, 9])\n"
     ]
    },
    {
     "data": {
      "text/plain": [
       "tensor([[[ 1.,  2.,  3.,  4.,  5.,  6.,  7.,  8.,  9.],\n",
       "         [11., 12., 13., 14., 15., 16., 17., 18., 19.]],\n",
       "\n",
       "        [[21., 22., 23., 24., 25., 26., 27., 28., 29.],\n",
       "         [31., 32., 33., 34., 35., 36., 37., 38., 39.]]], device='cuda:0')"
      ]
     },
     "execution_count": 107,
     "metadata": {},
     "output_type": "execute_result"
    }
   ],
   "source": [
    "print(torcharray.shape)\n",
    "torcharray"
   ]
  },
  {
   "cell_type": "code",
   "execution_count": 8,
   "metadata": {},
   "outputs": [],
   "source": [
    "class RUL_Dataset(Dataset):\n",
    "    \"\"\"Face Landmarks dataset. Example from PyTorch: see https://pytorch.org/tutorials/beginner/data_loading_tutorial.html\"\"\"\n",
    "\n",
    "    def __init__(self, train_dir, permutations, max_starting = 1e4, min_lenght = 3600, transform=None):\n",
    "        \"\"\"\n",
    "        Arguments:\n",
    "            train_dir (string): path to a directory with all csv files with n time series of features with labels (labels are csv last series) .\n",
    "            permutations (integer): number of truncated time series we want to extract for 1 epoch\n",
    "            max_starting (int): The maximum value for the starting point of the series\n",
    "            min_lenght (int): The minimum lenght for all series\n",
    "            transform (callable, optional): Optional transform to be applied on a sample.\n",
    "        \"\"\"\n",
    "        self.transform = transform\n",
    "        self.permutations = permutations\n",
    "        self.min_lenght = min_lenght\n",
    "        self.max_starting = max_starting\n",
    "\n",
    "        # Checking for different types \n",
    "        signs = [' ', ',', ';','    ']\n",
    "        series_t = []\n",
    "        for file_path in os.listdir(train_dir):\n",
    "\n",
    "            full_path = '/'.join([train_dir, file_path])\n",
    "\n",
    "            for sign in signs:\n",
    "                try:\n",
    "                    series_t += [torch.Tensor(np.loadtxt(full_path, delimiter=sign))]\n",
    "                    print(f\"Sign : '{sign}' works\")\n",
    "                except : \n",
    "                    print(f\"Sign : '{sign}' does not work\")\n",
    "\n",
    "        self.series_t = series_t\n",
    "\n",
    "        all_series_len = [series_t[i].shape[1] for i in range(len(series_t))]\n",
    "        self.all_series_len = all_series_len\n",
    "\n",
    "    def __len__(self):\n",
    "        return self.permutations\n",
    "\n",
    "    def __getitem__(self, idx):\n",
    "        \n",
    "        # Draw the random sequence lenght\n",
    "        a = 0.5\n",
    "        z = np.random.uniform(size = 1)\n",
    "        z = a*z[0]**3 - a*1.5*z[0]**2 + (1+0.5*a)*z[0]\n",
    "\n",
    "\n",
    "        sequence_lenght = int(self.min_lenght + z*(max(self.all_series_len) - self.min_lenght))\n",
    "\n",
    "        existence, start_points = self._selfbatch(self.all_series_len, sequence_lenght)\n",
    "        \n",
    "\n",
    "        label = torch.as_tensor(np.array([[self.series_t[i][-1, start_points[i]+sequence_lenght ]] for i in existence]))\n",
    "        # List of all series features\n",
    "        features = torch.as_tensor(np.array([self.series_t[i][:-1, start_points[i] : start_points[i]+sequence_lenght]  for i in existence ]))\n",
    "\n",
    "        return features, label\n",
    "    \n",
    "    \n",
    "    def _selfbatch(self, all_series_len, seq_len):\n",
    "\n",
    "        # decides which series are included in thos batch\n",
    "        existence = [i for i in range(len(all_series_len)) if seq_len<all_series_len[i]]\n",
    "\n",
    "        # randomly select start_points that guarantee existence\n",
    "        start_points = np.random.randint(low=0, high=[max(all_series_len[i] - seq_len, 1) for i in range(len(all_series_len))])\n",
    "\n",
    "        return existence, start_points"
   ]
  },
  {
   "cell_type": "code",
   "execution_count": 9,
   "metadata": {},
   "outputs": [
    {
     "name": "stdout",
     "output_type": "stream",
     "text": [
      "Sign : ' ' does not work\n",
      "Sign : ',' works\n",
      "Sign : ';' does not work\n",
      "Sign : '    ' does not work\n",
      "Sign : ' ' does not work\n",
      "Sign : ',' works\n",
      "Sign : ';' does not work\n",
      "Sign : '    ' does not work\n",
      "Sign : ' ' does not work\n",
      "Sign : ',' works\n",
      "Sign : ';' does not work\n",
      "Sign : '    ' does not work\n",
      "Sign : ' ' does not work\n",
      "Sign : ',' works\n",
      "Sign : ';' does not work\n",
      "Sign : '    ' does not work\n"
     ]
    }
   ],
   "source": [
    "training_dataset = RUL_Dataset(train_dir=\"D:\\Imperial_College\\FYP\\B0_tests\\Training\", permutations=200, )\n",
    "\n",
    "loader = DataLoader(training_dataset, batch_size=1, shuffle=False)\n"
   ]
  },
  {
   "cell_type": "code",
   "execution_count": 11,
   "metadata": {},
   "outputs": [
    {
     "name": "stdout",
     "output_type": "stream",
     "text": [
      "random variable transform z is :0.3069093484747535\n",
      "Random lenght: 13344\n",
      "Chosen series: [0, 1, 2, 3]\n",
      "Random start points: [ 2717   724  6273 11888]\n"
     ]
    },
    {
     "data": {
      "text/plain": [
       "[tensor([[[[ 4.9717e-02, -1.6850e-01,  1.9289e-01,  ...,  9.7187e-02,\n",
       "             6.9624e-02,  1.1863e-01],\n",
       "           [-7.8471e-01, -7.2190e-01, -7.2729e-01,  ..., -1.3617e+00,\n",
       "            -1.5037e+00, -1.5143e+00],\n",
       "           [-8.4011e-02, -8.3600e-02, -8.4232e-02,  ..., -2.7351e-01,\n",
       "            -2.7190e-01, -2.7216e-01],\n",
       "           [-7.7650e-02, -8.1015e-02, -8.2973e-02,  ..., -4.3038e-02,\n",
       "            -1.6133e-02, -2.4287e-02]],\n",
       " \n",
       "          [[-9.4739e-02, -9.4004e-02, -1.7483e-01,  ...,  8.0876e-02,\n",
       "             5.6628e-02,  2.0623e-02],\n",
       "           [ 2.4107e-01,  5.0125e-01,  5.4413e-01,  ..., -1.0436e+00,\n",
       "            -9.2221e-01, -1.1142e+00],\n",
       "           [-9.9682e-02, -1.0055e-01, -1.0123e-01,  ..., -2.1559e-01,\n",
       "            -2.1504e-01, -2.1593e-01],\n",
       "           [-8.4312e-03, -1.7658e-02, -6.2377e-03,  ...,  1.6444e-03,\n",
       "             8.5608e-03, -1.8819e-02]],\n",
       " \n",
       "          [[ 3.0076e-01,  9.3441e-02,  3.7409e-02,  ...,  9.9845e-02,\n",
       "             3.0957e-01,  1.4867e-01],\n",
       "           [-5.3286e-01, -5.1920e-01, -4.9910e-01,  ..., -7.5113e-01,\n",
       "            -7.4596e-01, -6.3492e-01],\n",
       "           [-1.1469e-01, -1.1487e-01, -1.1545e-01,  ..., -1.9120e-01,\n",
       "            -1.9126e-01, -1.9091e-01],\n",
       "           [-2.6232e-02,  6.9875e-03, -6.2310e-03,  ..., -7.2256e-03,\n",
       "            -7.9669e-03, -1.2660e-02]],\n",
       " \n",
       "          [[ 1.2822e-01,  1.5366e-01,  1.5858e-01,  ...,  1.1509e-01,\n",
       "             1.6843e-01,  1.1919e-01],\n",
       "           [-9.7309e-01, -1.0008e+00, -1.0384e+00,  ..., -1.8215e+00,\n",
       "            -1.5324e+00, -1.4818e+00],\n",
       "           [-1.6766e-01, -1.6761e-01, -1.6789e-01,  ..., -1.8230e-01,\n",
       "            -1.8254e-01, -1.8252e-01],\n",
       "           [-3.9416e-02, -3.9283e-02, -4.1636e-02,  ..., -4.7627e-03,\n",
       "             9.6629e-03, -1.8209e-02]]]]),\n",
       " tensor([[[0.4492],\n",
       "          [0.9031],\n",
       "          [0.2924],\n",
       "          [0.2022]]])]"
      ]
     },
     "execution_count": 11,
     "metadata": {},
     "output_type": "execute_result"
    }
   ],
   "source": [
    "next(iter(loader))"
   ]
  },
  {
   "cell_type": "code",
   "execution_count": 69,
   "metadata": {},
   "outputs": [
    {
     "name": "stdout",
     "output_type": "stream",
     "text": [
      "Sign : ' ' does not work\n",
      "Sign : ',' works\n",
      "Sign : ';' does not work\n",
      "Sign : '    ' does not work\n",
      "Sign : ' ' does not work\n",
      "Sign : ',' works\n",
      "Sign : ';' does not work\n",
      "Sign : '    ' does not work\n",
      "Sign : ' ' does not work\n",
      "Sign : ',' works\n",
      "Sign : ';' does not work\n",
      "Sign : '    ' does not work\n",
      "Sign : ' ' does not work\n",
      "Sign : ',' works\n",
      "Sign : ';' does not work\n",
      "Sign : '    ' does not work\n",
      "Len list : [22928, 35352, 24366, 29163]\n",
      "Seq Len : 15000\n",
      "Existence : [0, 1, 2, 3]\n",
      "Start points : [  660 11494  2861 13804]\n"
     ]
    }
   ],
   "source": [
    "train_dir = \"D:\\Imperial_College\\FYP\\B0_tests\\Training\"\n",
    "signs = [' ', ',', ';','    ']\n",
    "series_t = []\n",
    "for file_path in os.listdir(train_dir):\n",
    "    full_path = '/'.join([train_dir, file_path])\n",
    "    for sign in signs:\n",
    "        try:\n",
    "            series_t += [torch.Tensor(np.loadtxt(full_path, delimiter=sign))]\n",
    "            print(f\"Sign : '{sign}' works\")\n",
    "        except : \n",
    "            print(f\"Sign : '{sign}' does not work\")\n",
    "\n",
    "all_series_len = [series_t[i].shape[1] for i in range(len(series_t))]\n",
    "print(f\"Len list : {all_series_len}\")\n",
    "\n",
    "seq_len = 15000\n",
    "print(f\"Seq Len : {seq_len}\")\n",
    "\n",
    "existence = [i for i in range(len(all_series_len)) if seq_len<all_series_len[i]]\n",
    "print(f\"Existence : {existence}\")\n",
    "\n",
    "start_points = np.random.randint(low=0, high=[max(all_series_len[i] - seq_len, 1) for i in range(len(all_series_len))])\n",
    "print(f\"Start points : {start_points}\")\n"
   ]
  },
  {
   "cell_type": "code",
   "execution_count": 72,
   "metadata": {},
   "outputs": [
    {
     "name": "stdout",
     "output_type": "stream",
     "text": [
      "[ 6381 18091  8845  7443]\n"
     ]
    }
   ],
   "source": [
    "start_points_class = np.random.randint(low=0, high=[max(all_series_len[i] - seq_len, 1) for i in range(len(all_series_len))])\n",
    "\n",
    "print(start_points_class)"
   ]
  }
 ],
 "metadata": {
  "kernelspec": {
   "display_name": "FYP-dev",
   "language": "python",
   "name": "python3"
  },
  "language_info": {
   "codemirror_mode": {
    "name": "ipython",
    "version": 3
   },
   "file_extension": ".py",
   "mimetype": "text/x-python",
   "name": "python",
   "nbconvert_exporter": "python",
   "pygments_lexer": "ipython3",
   "version": "3.11.5"
  }
 },
 "nbformat": 4,
 "nbformat_minor": 2
}
