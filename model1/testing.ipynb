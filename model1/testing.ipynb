{
 "cells": [
  {
   "cell_type": "code",
   "execution_count": 28,
   "metadata": {},
   "outputs": [],
   "source": [
    "import torch\n",
    "import numpy as np\n",
    "from python_files.variable_maxpool_layer import var_maxpool\n",
    "import math\n",
    "from python_files.spatial_pyramidal_pooling import spatial_pyramid_pool\n",
    "\n",
    "device = (\n",
    "    \"cuda\"\n",
    "    if torch.cuda.is_available()\n",
    "    else \"cpu\"\n",
    ")"
   ]
  },
  {
   "cell_type": "code",
   "execution_count": 32,
   "metadata": {},
   "outputs": [],
   "source": [
    "# To get tensors, use torch.from_numpy()\n",
    "\n",
    "array = np.array(\n",
    "    [\n",
    "    [[1,2,3,4,5,6,7,8,9],\n",
    "    [11,12,13,14,15,16,17,18,19],],\n",
    "    \n",
    "    [[21,22,23,24,25,26,27,28,29],\n",
    "    [31,32,33,34,35,36,37,38,39],],\n",
    "    ])\n",
    "\n",
    "array2 = np.array(\n",
    "    [\n",
    "    [[1,2,3,4,5,6,7,8,9, 40, 41,],\n",
    "    [11,12,13,14,15,16,17,18,19, 50, 51],],\n",
    "    \n",
    "    [[21,22,23,24,25,26,27,28,29, 60, 61],\n",
    "    [31,32,33,34,35,36,37,38,39, 70, 71],],\n",
    "    ])\n",
    "\n",
    "array3 = np.array(\n",
    "    [\n",
    "    [[1,2,3,4,5,6,7,8,9, 40, 41,],\n",
    "    [11,12,13,14,15,16,17,18,19, 50, 51],],\n",
    "    \n",
    "    [[21,22,23,24,25,26,27,28,29, 60, 61],\n",
    "    [31,32,33,34,35,36,37,38,39, 70, 71],],\n",
    "    ])\n",
    "\n",
    "\n",
    "torcharray = torch.from_numpy(array).to(device=device, dtype=torch.float)\n",
    "torcharray2 = torch.from_numpy(array2).to(device=device, dtype=torch.float)\n",
    "\n",
    "Conv1D_dept = torch.nn.Conv1d(in_channels=2, out_channels=2, kernel_size= 2, stride=1, padding=0, bias=False, device = device,)\n",
    "Conv1D_pointwise = torch.nn.Conv1d(in_channels=2, out_channels=3, kernel_size= 2, stride=1, padding=0, bias=False, device = device)"
   ]
  },
  {
   "cell_type": "code",
   "execution_count": 31,
   "metadata": {},
   "outputs": [
    {
     "data": {
      "text/plain": [
       "tensor([[ 3.,  6.,  9., 13., 16., 19.,  5.,  9., 15., 19.,  9., 19.],\n",
       "        [23., 26., 29., 33., 36., 39., 25., 29., 35., 39., 29., 39.]],\n",
       "       device='cuda:0')"
      ]
     },
     "execution_count": 31,
     "metadata": {},
     "output_type": "execute_result"
    }
   ],
   "source": [
    "spatial_pool1 = spatial_pyramid_pool(torcharray, (3,2,1), padding_front=True)\n",
    "\n",
    "spatial_pool1"
   ]
  },
  {
   "cell_type": "code",
   "execution_count": 35,
   "metadata": {},
   "outputs": [
    {
     "data": {
      "text/plain": [
       "False"
      ]
     },
     "execution_count": 35,
     "metadata": {},
     "output_type": "execute_result"
    }
   ],
   "source": [
    "spatial_pool2 = spatial_pyramid_pool(torcharray2, (3,2,1), padding_front=True)\n",
    "\n",
    "spatial_pool2.requires_grad"
   ]
  },
  {
   "cell_type": "code",
   "execution_count": 36,
   "metadata": {},
   "outputs": [
    {
     "name": "stdout",
     "output_type": "stream",
     "text": [
      "tensor([[[  4.8861,   5.5349,   6.1837,   6.8325,   7.4812,   8.1300,   8.7788,\n",
      "            9.4275,  24.9983,  30.1881],\n",
      "         [ -1.0049,  -1.3939,  -1.7830,  -2.1720,  -2.5611,  -2.9502,  -3.3392,\n",
      "           -3.7283, -11.5144, -16.1781]],\n",
      "\n",
      "        [[ 17.8615,  18.5103,  19.1591,  19.8078,  20.4566,  21.1054,  21.7541,\n",
      "           22.4029,  37.9737,  43.1635],\n",
      "         [ -8.7860,  -9.1751,  -9.5642,  -9.9532, -10.3423, -10.7313, -11.1204,\n",
      "          -11.5094, -19.2955, -23.9593]]], device='cuda:0',\n",
      "       grad_fn=<ConvolutionBackward0>)\n"
     ]
    },
    {
     "data": {
      "text/plain": [
       "tensor([[  6.8325,   9.4275,  30.1881,  -1.0049,  -2.5611, -11.5144,   7.4812,\n",
       "          30.1881,  -1.0049,  -2.9502,  30.1881,  -1.0049],\n",
       "        [ 19.8078,  22.4029,  43.1635,  -8.7860, -10.3423, -19.2955,  20.4566,\n",
       "          43.1635,  -8.7860, -10.7313,  43.1635,  -8.7860]], device='cuda:0',\n",
       "       grad_fn=<CatBackward0>)"
      ]
     },
     "execution_count": 36,
     "metadata": {},
     "output_type": "execute_result"
    }
   ],
   "source": [
    "conv_out = Conv1D_dept(torcharray2)\n",
    "print(conv_out)\n",
    "\n",
    "spatial_pool3 = spatial_pyramid_pool(conv_out, (3,2,1), padding_front=True)\n",
    "\n",
    "spatial_pool3"
   ]
  }
 ],
 "metadata": {
  "kernelspec": {
   "display_name": "FYP-dev",
   "language": "python",
   "name": "python3"
  },
  "language_info": {
   "codemirror_mode": {
    "name": "ipython",
    "version": 3
   },
   "file_extension": ".py",
   "mimetype": "text/x-python",
   "name": "python",
   "nbconvert_exporter": "python",
   "pygments_lexer": "ipython3",
   "version": "3.11.5"
  }
 },
 "nbformat": 4,
 "nbformat_minor": 2
}
